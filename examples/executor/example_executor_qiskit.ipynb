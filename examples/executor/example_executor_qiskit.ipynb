{
 "cells": [
  {
   "cell_type": "markdown",
   "metadata": {},
   "source": [
    "## Example: Initialization and Primitives of the Executor\n",
    "\n",
    "This example shows different ways to initialize the Executor und run various jobs."
   ]
  },
  {
   "cell_type": "code",
   "execution_count": null,
   "metadata": {},
   "outputs": [],
   "source": [
    "from qiskit_aer import Aer\n",
    "from qiskit.circuit.random import random_circuit\n",
    "from qiskit.primitives import Sampler, Estimator, BackendSampler, BackendEstimator\n",
    "from qiskit.quantum_info import SparsePauliOp\n",
    "from qiskit_ibm_runtime import QiskitRuntimeService, Session\n",
    "from qiskit_ibm_runtime import Estimator as RuntimeEstimator\n",
    "\n",
    "from squlearn.util import Executor\n",
    "from squlearn.util.executor import BaseEstimatorV1, BaseSamplerV1"
   ]
  },
  {
   "cell_type": "markdown",
   "metadata": {},
   "source": [
    "The following cells shows different ways to initialize of the ``Executor`` class with Qiskit backends or services."
   ]
  },
  {
   "cell_type": "code",
   "execution_count": null,
   "metadata": {
    "tags": []
   },
   "outputs": [],
   "source": [
    "# from a string representing the simple Qiskit Aer simulators:\n",
    "executor = Executor(\"statevector_simulator\")\n",
    "executor = Executor(\"qasm_simulator\")\n",
    "# from a backend following the Qiskit backend standard:\n",
    "executor = Executor(Aer.get_backend(\"aer_simulator_statevector\"))"
   ]
  },
  {
   "cell_type": "code",
   "execution_count": null,
   "metadata": {},
   "outputs": [],
   "source": [
    "# from a backend obtained from the Qiskit IBM runtime service (here, the account has to be set-up previously):\n",
    "service = QiskitRuntimeService(channel=\"ibm_quantum\")\n",
    "# Alternative: service = QiskitRuntimeService(channel=\"ibm_quantum\",token=\"YOUR_TOKEN_HERE\")\n",
    "executor = Executor(service.backend(\"ibm_kyoto\"))\n",
    "# from a session set-up with the Qiskit IBM runtime service:\n",
    "session = Session(service, backend=service.backend(\"ibm_kyoto\"), max_time=28800)\n",
    "executor = Executor(session)\n",
    "\n",
    "# from the Qiskit IBM runtime Estimator primitive:\n",
    "session = Session(service, backend=service.backend(\"ibm_kyoto\"), max_time=28800)\n",
    "estimator = RuntimeEstimator(session=session)\n",
    "executor = Executor(estimator)"
   ]
  },
  {
   "cell_type": "code",
   "execution_count": null,
   "metadata": {},
   "outputs": [],
   "source": [
    "# from a Qiskit simulator primitive:\n",
    "executor = Executor(Estimator())\n",
    "executor = Executor(Sampler())\n",
    "executor = Executor(BackendEstimator(Aer.get_backend(\"aer_simulator\")))\n",
    "executor = Executor(BackendSampler(Aer.get_backend(\"aer_simulator\")))"
   ]
  },
  {
   "cell_type": "markdown",
   "metadata": {},
   "source": [
    "The cells demonstrates how to set the number of shots utilized in the circuit evaluation."
   ]
  },
  {
   "cell_type": "code",
   "execution_count": null,
   "metadata": {},
   "outputs": [],
   "source": [
    "# Shots can be set by the executor:\n",
    "print(\"Current shots as set before:\", executor.get_shots())\n",
    "# Set shots\n",
    "executor.set_shots(1234)\n",
    "print(\"Adjusted shots:\", executor.get_shots())\n",
    "# Reset shots to initial ones:\n",
    "executor.reset_shots()\n",
    "print(\"Reset shots:\", executor.get_shots())"
   ]
  },
  {
   "cell_type": "markdown",
   "metadata": {},
   "source": [
    "In this cell, we calculate an expectation value using the Estimator primitive, which is accessible through the ``Executor`` class. The executor generates modified Primitives with enhanced functionality, including caching, automatic session management, and logging capabilities. These modified primitives can be seamlessly incorporated into your workflow or other Qiskit routines."
   ]
  },
  {
   "cell_type": "code",
   "execution_count": null,
   "metadata": {},
   "outputs": [],
   "source": [
    "# Generate a random circuit:\n",
    "circuit = random_circuit(2, 2, seed=0).decompose(reps=1)\n",
    "\n",
    "# Generate an observable:\n",
    "observable = SparsePauliOp(\"ZI\")\n",
    "\n",
    "# Get the Executor Estimator Primitive and call run:\n",
    "# Depending on the Estimator version, the run call is slightly different\n",
    "estimator = executor.get_estimator()\n",
    "if isinstance(estimator, BaseEstimatorV1):\n",
    "    print(estimator.run(circuit, observable, shots=4321).result())\n",
    "else:\n",
    "    print(estimator.run([(circuit, observable)], precision=1 / 4321**0.5).result())\n",
    "\n",
    "# Get the Executor Sampler Primitive and call run:\n",
    "# Depending on the Sampler version, the run call is slightly different\n",
    "sampler = executor.get_sampler()\n",
    "if isinstance(sampler, BaseSamplerV1):\n",
    "    print(sampler.run(circuit.measure_all(inplace=False)).result())\n",
    "else:\n",
    "    print(sampler.run([(circuit.measure_all(inplace=False),)]).result())"
   ]
  },
  {
   "cell_type": "markdown",
   "metadata": {},
   "source": [
    "The executor can also be used to execute ``backend.run()``. However, caching is not yet implemented for this case."
   ]
  },
  {
   "cell_type": "code",
   "execution_count": null,
   "metadata": {},
   "outputs": [],
   "source": [
    "job = executor.qiskit_execute(circuit)\n",
    "job.result()"
   ]
  },
  {
   "cell_type": "markdown",
   "metadata": {},
   "source": [
    "Additionally, the executor maintains a detailed log of background operations. This feature proves especially valuable when optimizing real backends, allowing you to gain insights into the underlying processes and activities."
   ]
  },
  {
   "cell_type": "code",
   "execution_count": null,
   "metadata": {},
   "outputs": [],
   "source": [
    "executor = Executor(\"qasm_simulator\", log_file=\"example_log.log\")\n",
    "executor.set_shots(1234)\n",
    "estimator = executor.get_estimator()\n",
    "\n",
    "# Depending on the Estimator version, the run call is slightly different\n",
    "if isinstance(estimator, BaseEstimatorV1):\n",
    "    print(estimator.run(circuit, observable, shots=4321).result())\n",
    "else:\n",
    "    print(estimator.run([(circuit, observable)], precision=1 / 4321**0.5).result())"
   ]
  },
  {
   "cell_type": "markdown",
   "metadata": {},
   "source": [
    "The executor has a cache where it stores and can reuse job results. In this example, we change the number of shots to tell apart the first and second runs of the same job, and both runs are stored in separate caches. However, the third job simply reuses the cached result from its first execution."
   ]
  },
  {
   "cell_type": "code",
   "execution_count": null,
   "metadata": {},
   "outputs": [],
   "source": [
    "executor = Executor(\n",
    "    BackendSampler(Aer.get_backend(\"qasm_simulator\")),\n",
    "    log_file=\"example_log_cache.log\",\n",
    "    caching=True,\n",
    "    cache_dir=\"_cache\",\n",
    ")\n",
    "executor.set_shots(4321)\n",
    "estimator = executor.get_estimator()\n",
    "# Depending on the Estimator version, the run call is slightly different\n",
    "if isinstance(estimator, BaseEstimatorV1):\n",
    "    print(estimator.run(circuit, observable).result())\n",
    "else:\n",
    "    print(estimator.run([(circuit, observable)]).result())\n",
    "\n",
    "executor.set_shots(1234)\n",
    "# Depending on the Estimator version, the run call is slightly different\n",
    "if isinstance(estimator, BaseEstimatorV1):\n",
    "    print(estimator.run(circuit, observable).result())\n",
    "else:\n",
    "    print(estimator.run([(circuit, observable)]).result())\n",
    "# This one is load from the cached and not executed again\n",
    "executor.set_shots(4321)\n",
    "# Depending on the Estimator version, the run call is slightly different\n",
    "if isinstance(estimator, BaseEstimatorV1):\n",
    "    print(estimator.run(circuit, observable).result())\n",
    "else:\n",
    "    print(estimator.run([(circuit, observable)]).result())"
   ]
  }
 ],
 "metadata": {
  "kernelspec": {
   "display_name": ".venv",
   "language": "python",
   "name": "python3"
  },
  "language_info": {
   "codemirror_mode": {
    "name": "ipython",
    "version": 3
   },
   "file_extension": ".py",
   "mimetype": "text/x-python",
   "name": "python",
   "nbconvert_exporter": "python",
   "pygments_lexer": "ipython3",
   "version": "3.10.11"
  },
  "orig_nbformat": 4
 },
 "nbformat": 4,
 "nbformat_minor": 2
}
