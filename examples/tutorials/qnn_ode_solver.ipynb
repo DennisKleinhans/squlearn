{
 "cells": [
  {
   "cell_type": "markdown",
   "metadata": {},
   "source": [
    "# Solving a First-order Ordinary Differential Equation  (ODE)  "
   ]
  },
  {
   "cell_type": "markdown",
   "metadata": {},
   "source": [
    "In this notebook, we will solve a first order ODE using sQUlearn's implementations of a Quantum Neural Networks (QNN) differential equation solver, as described in [squlearn.qnn.loss.ODELoss](https://squlearn.github.io/modules/generated/squlearn.qnn.loss.ODELoss.html#squlearn.qnn.loss.ODELoss).\n",
    "\n",
    "\n",
    "<center>\n",
    "<img src=\"images/QNN_ode_workflow.png\" alt=\"pipeline\" width=\"1200\"/>\n",
    "\n",
    "*Fig. 1: General Scheme for solving a differential Equation with a QNN as introduced by Ref. 1*\n",
    "</center>\n",
    "\n",
    "\n",
    "Differential Equations are building blocks of many scientific fields. One numerical method to solve these problems consists on representing an ansatz in a suitable basis and solving for the optimal coefficients of the differential equation in this basis. Formally, we consider a differential equations given in its functional form,\n",
    "\\begin{equation}\\tag{1}\n",
    "F = F[\\{d^{m}f_{n}/d x^{m}\\}_{m,n},\\{f_{n}(x)\\}_{n},x]=0,\n",
    "\\end{equation}\n",
    "where $f$ corresponds to the function solution of the differential equations. For example, the differential equation $\\frac{df(x)}{dx}=\\log(x)$, can be written as $F\\left(\\frac{df(x)}{dx}, f(x), f\\right) = \\frac{df(x)}{dx} - \\log(x)$. The ansatz $f$ can be represented in a parameterized differentiable form,\n",
    "\\begin{equation}\\tag{2}\n",
    "f=f_{{\\theta}},\n",
    "\\end{equation}\n",
    "and the solution to the differential equation can be seen as an optimization problem, where a loss function, \n",
    "\\begin{equation}\\tag{3}\n",
    "\\mathcal{L}_{{\\theta}} = \\mathcal{L}_{{\\theta}}(\\{d^{m}f_{n}/d x^{m}\\}_{m,n},\\{f_{n}(x)\\}_{n},x),\n",
    "\\end{equation}\n",
    "is optimized to find the ideal parameters ${\\theta}_{\\mathrm{opt}}$.\n",
    "\\begin{equation}\\tag{4}\n",
    "{\\theta}_{\\mathrm{opt}}=\\arg_{{\\theta}}\\mathrm{min}(\\mathcal{L}_{{\\theta}}[d_{x}f,f,x]).\n",
    "\\end{equation}\n",
    "In our case, the ansatz will be given by a parameterized quantum circuit, known as a Quantum Neural Network (QNN) and we will follow the structure introduced by Ref. [1]. Using an encoding circuit unitary $U_{\\phi}(x)$, and a parameterized set of gates $U_{{\\theta}}$, a trial state $\\ket{f_{{\\theta}, \\phi}(x)} = U_{{\\theta}} U_{\\phi}(x) \\ket{0}$ is constructed. By measuring this state with regard to an arbitrary cost operator $\\hat{C}$, a final trial function is given by,\n",
    "\\begin{equation}\\tag{5}\n",
    "f_{{\\theta}, \\phi}(x) = \\langle \\hat{C} \\rangle = \\bra{f_{{\\theta}, \\phi}(x)} \\hat{C} \\ket{f_{{\\theta}, \\phi}(x)}.\n",
    "\\end{equation}\n",
    "$\\phi$ is a nonlinear function that is used to preprocess the data before encoding it into the quantum state. The encoded state after the first unitary $U_{\\phi}(x)$ is then manipulated by the parameterized unitary $U_{{\\theta}}$. Note that sQUlearn's flexibility allows us to not only to stick to this quantum circuit design but to use any of the available circuits (or self-designed) in the library. The derivatives of our ansatz functions are calculated under the hood by sQUlearn and the total loss is obtained. The loss is progressively updated by sQUlearn's available optimization algorithms.\n",
    "\n",
    "Without further ado, we proceed to numerically solve the differential equation.\n",
    "\n",
    "\n",
    "**References**\n",
    "\n",
    "1. Kyriienko, O., Paine, A., Elfving, V., \"Solving nonlinear differential equations with differentiable quantum circuits\", Physical Review A 103 (2021)."
   ]
  },
  {
   "cell_type": "markdown",
   "metadata": {},
   "source": [
    "### Importing Libraries\n",
    "\n",
    "In this initial cell, we are importing all the libraries required for the tutorial. We are using sQUlearn to set up the quantum learning problem and `sympy`, to explicitly write the differential equation that we would like to solve\n"
   ]
  },
  {
   "cell_type": "code",
   "execution_count": 1,
   "metadata": {},
   "outputs": [],
   "source": [
    "import numpy as np\n",
    "import sympy as sp\n",
    "import matplotlib.pyplot as plt\n",
    "from squlearn import Executor\n",
    "from squlearn.encoding_circuit import KyriienkoEncodingCircuit\n",
    "from squlearn.observables import SummedPaulis\n",
    "from squlearn.qnn import QNNRegressor, ODELoss\n",
    "from squlearn.qnn.util import get_lr_decay\n",
    "from squlearn.optimizers import Adam"
   ]
  },
  {
   "cell_type": "markdown",
   "metadata": {},
   "source": [
    "Our choice of differential equation is the [Bernoulli differential equation](https://en.wikipedia.org/wiki/Bernoulli_differential_equation), whose general form is given by:\n",
    "\n",
    "\\begin{equation}\\tag{6}\n",
    "\\frac{dy}{dx} = Q(x)y^n - P(x)y\n",
    "\\end{equation}\n",
    "\n",
    "This family of differential equations has important applications in many fields. Here, we solve a special case known as the [logistic equation](https://en.wikipedia.org/wiki/Logistic_function). The logistic equation has an analytical solution and its applications include: population growth in ecology, the Fermi-Dirac distribution in physics, and many uses in machine learning. \n",
    "\n",
    "For the logistic differential equation, we take $Q(x) =  P(x) = -6$ and $n = 2$ in Eq. $(6)$:\n",
    "\n",
    "\\begin{equation}\\tag{7}\n",
    "\\frac{dy}{dx} = -6y^2 + 6y = 6y(1-y)\n",
    "\\end{equation}\n"
   ]
  },
  {
   "cell_type": "markdown",
   "metadata": {},
   "source": [
    "First, we need to define the differential equation functional using `sympy`"
   ]
  },
  {
   "cell_type": "code",
   "execution_count": 2,
   "metadata": {},
   "outputs": [],
   "source": [
    "x, y, dydx = sp.symbols(\"x y dydx\")  # Define the symbols\n",
    "eq = dydx - 6 * y * (1 - y)  # Define the differential equation\n",
    "\n",
    "# Define the differential equation, in our notation y depends on the independent variable x\n",
    "# initial_values corresponds to y(x_0), i.e. the value of y for the first element in the x array\n",
    "initial_values = [0.5]"
   ]
  },
  {
   "cell_type": "markdown",
   "metadata": {},
   "source": [
    "Given the differential equation functional, we need to define the squlearn corresponding loss function.\n",
    "-    To correctly construct the loss function, the sympy variable associated to the independent (`x`), dependent (`y`) and derivatives (`dydx`) must be informed in that order, in this case `symbols_involved_in_ODE=[x, y, dydx]`.\n",
    "- We used the `boundary_handling=\"pinned\"` which adds a pinning term to the loss function. This is, $\\mathcal{L}_{\\theta} = \\mathcal{L}_{\\theta}(dy/dx, y, x) + \\eta \\left(y(x_0) - u_0 \\right)^2$, where $u_0$ corresponds to `initial_values` and $\\eta$ is a regularization pinning term. As default $x_0$ corresponds to the first element of the domain array."
   ]
  },
  {
   "cell_type": "code",
   "execution_count": 3,
   "metadata": {},
   "outputs": [],
   "source": [
    "loss_ODE = ODELoss(\n",
    "    eq,\n",
    "    symbols_involved_in_ODE=[x, y, dydx],\n",
    "    initial_values=initial_values,\n",
    "    boundary_handling=\"pinned\",\n",
    "    eta=10,\n",
    ")"
   ]
  },
  {
   "cell_type": "markdown",
   "metadata": {},
   "source": [
    "Now, we proceed to define our quantum solver model. First we define the quantum circuit used as an ansatz"
   ]
  },
  {
   "cell_type": "code",
   "execution_count": null,
   "metadata": {},
   "outputs": [
    {
     "ename": "TypeError",
     "evalue": "EncodingCircuitBase.generate_initial_parameters() missing 1 required positional argument: 'num_features'",
     "output_type": "error",
     "traceback": [
      "\u001b[1;31m---------------------------------------------------------------------------\u001b[0m",
      "\u001b[1;31mTypeError\u001b[0m                                 Traceback (most recent call last)",
      "Cell \u001b[1;32mIn[4], line 14\u001b[0m\n\u001b[0;32m      9\u001b[0m observable \u001b[38;5;241m=\u001b[39m SummedPaulis(\n\u001b[0;32m     10\u001b[0m     num_qubits, op_str\u001b[38;5;241m=\u001b[39m(\u001b[38;5;124m\"\u001b[39m\u001b[38;5;124mZ\u001b[39m\u001b[38;5;124m\"\u001b[39m), include_identity\u001b[38;5;241m=\u001b[39m\u001b[38;5;28;01mTrue\u001b[39;00m\n\u001b[0;32m     11\u001b[0m )  \u001b[38;5;66;03m# Define the observable ZIII + IZII + IIZI + IIIZ + IIII\u001b[39;00m\n\u001b[0;32m     13\u001b[0m param_op_ini \u001b[38;5;241m=\u001b[39m observable\u001b[38;5;241m.\u001b[39mgenerate_initial_parameters(seed\u001b[38;5;241m=\u001b[39m\u001b[38;5;241m1\u001b[39m)\n\u001b[1;32m---> 14\u001b[0m param_ini \u001b[38;5;241m=\u001b[39m \u001b[43mcircuit\u001b[49m\u001b[38;5;241;43m.\u001b[39;49m\u001b[43mgenerate_initial_parameters\u001b[49m\u001b[43m(\u001b[49m\u001b[43mseed\u001b[49m\u001b[38;5;241;43m=\u001b[39;49m\u001b[38;5;241;43m1\u001b[39;49m\u001b[43m)\u001b[49m\n\u001b[0;32m     16\u001b[0m circuit\u001b[38;5;241m.\u001b[39mdraw(\n\u001b[0;32m     17\u001b[0m     \u001b[38;5;124m\"\u001b[39m\u001b[38;5;124mmpl\u001b[39m\u001b[38;5;124m\"\u001b[39m,\n\u001b[0;32m     18\u001b[0m     num_features\u001b[38;5;241m=\u001b[39m\u001b[38;5;241m1\u001b[39m,\n\u001b[0;32m     19\u001b[0m )\n",
      "\u001b[1;31mTypeError\u001b[0m: EncodingCircuitBase.generate_initial_parameters() missing 1 required positional argument: 'num_features'"
     ]
    }
   ],
   "source": [
    "num_qubits = 4\n",
    "circuit = KyriienkoEncodingCircuit(\n",
    "    num_qubits=num_qubits,\n",
    "    encoding_style=\"chebyshev_tower\",  # other options are chebyshev_tower, chebyshev_sparse, chebyshev_product\n",
    "    variational_arrangement=\"ABA\",  # other option can be HEA (Hardware Efficient Ansatz), with consecutive entangling layers\n",
    "    num_encoding_layers=1,\n",
    "    num_variational_layers=14,\n",
    ")\n",
    "observable = SummedPaulis(\n",
    "    num_qubits, op_str=(\"Z\"), include_identity=True\n",
    ")  # Define the observable ZIII + IZII + IIZI + IIIZ + IIII\n",
    "\n",
    "param_op_ini = observable.generate_initial_parameters(seed=1)\n",
    "param_ini = circuit.generate_initial_parameters(seed=1, num_features=1)\n",
    "\n",
    "circuit.draw(\n",
    "    \"mpl\",\n",
    "    num_features=1,\n",
    ")"
   ]
  },
  {
   "cell_type": "markdown",
   "metadata": {},
   "source": [
    "Other parameterized circuits available in sQUlearn can be used interchangeably for this ODE solver interface.\n",
    "\n",
    "We proceed to define our solver by creating a `QNNRegressor` with the loss function given by `loss_ODE`. In this case, we are using the Adam optimizer with a decaying learning rate."
   ]
  },
  {
   "cell_type": "code",
   "execution_count": null,
   "metadata": {},
   "outputs": [],
   "source": [
    "ode_regressor = QNNRegressor(\n",
    "    circuit,\n",
    "    observable,\n",
    "    Executor(\"pennylane\"),\n",
    "    loss_ODE,\n",
    "    Adam(options={\"maxiter\": 250, \"tol\": 0.00000009, \"lr\": get_lr_decay(0.03, 0.01, 250)}),\n",
    "    param_ini,\n",
    "    param_op_ini,\n",
    "    opt_param_op=True,  # if True, the optimizer will also optimize the observable parameters\n",
    ")"
   ]
  },
  {
   "cell_type": "markdown",
   "metadata": {},
   "source": [
    "At last, we solve the model by training on a fixed domain (this takes a couple og hours) and compare it to the analytical answer"
   ]
  },
  {
   "cell_type": "code",
   "execution_count": null,
   "metadata": {},
   "outputs": [],
   "source": [
    "x_numerical = np.linspace(0, 0.9, 10).reshape(-1, 1)\n",
    "ref_values = np.zeros(len(x_numerical))\n",
    "ode_regressor.fit(x_numerical, ref_values)"
   ]
  },
  {
   "cell_type": "code",
   "execution_count": null,
   "metadata": {},
   "outputs": [],
   "source": [
    "x_numerical = np.linspace(0, 0.9, 100).reshape(-1, 1)\n",
    "\n",
    "plt.plot(\n",
    "    x_numerical, (1 / (1 + np.exp(-6 * x_numerical))), \"-\", label=\"Exact Solution\", linewidth=4\n",
    ")\n",
    "plt.plot(x_numerical, ode_regressor.predict(x_numerical), \"--\", label=\"QNN Solution\", linewidth=4)\n",
    "plt.title(\"$dydx - 6y(1-y) = 0$\")\n",
    "plt.xlabel(\"x\")\n",
    "plt.ylabel(\"y\")\n",
    "plt.legend()"
   ]
  }
 ],
 "metadata": {
  "kernelspec": {
   "display_name": ".venv",
   "language": "python",
   "name": "python3"
  },
  "language_info": {
   "codemirror_mode": {
    "name": "ipython",
    "version": 3
   },
   "file_extension": ".py",
   "mimetype": "text/x-python",
   "name": "python",
   "nbconvert_exporter": "python",
   "pygments_lexer": "ipython3",
   "version": "3.10.11"
  },
  "orig_nbformat": 4
 },
 "nbformat": 4,
 "nbformat_minor": 2
}
